{
 "cells": [
  {
   "cell_type": "markdown",
   "metadata": {},
   "source": [
    "# Example 1 (November 2019)\n",
    "\n",
    "## Outline of Topics\n",
    " - Basic variables\n",
    " - \"Collection\" data types\n",
    "    - lists\n",
    "    - tuples\n",
    "    - sets\n",
    "    - dictionaries\n",
    " - Control statements\n",
    " - The NumPy package\n",
    " - Plotting"
   ]
  },
  {
   "cell_type": "markdown",
   "metadata": {},
   "source": [
    "## Basic variables"
   ]
  },
  {
   "cell_type": "code",
   "execution_count": 1,
   "metadata": {},
   "outputs": [
    {
     "name": "stdout",
     "output_type": "stream",
     "text": [
      "<class 'int'>\n",
      "4\n",
      "<class 'str'>\n",
      "four\n"
     ]
    }
   ],
   "source": [
    "# Dynamic typing. Variable is created when a value is assigned to it. Can change the \n",
    "# type after originally set. Few rules on naming. Must start with letter or underscore. \n",
    "# Case-sensitive.\n",
    "\n",
    "# A python variable is more than just its value. It must also contain information about \n",
    "# the type of the value. There is overhead associated with such flexibility.\n",
    "\n",
    "x = 4;\n",
    "print(type(x))\n",
    "print(x)\n",
    "x = \"four\"\n",
    "print(type(x))\n",
    "print(x)"
   ]
  },
  {
   "cell_type": "markdown",
   "metadata": {},
   "source": [
    "## Collection data types"
   ]
  },
  {
   "cell_type": "code",
   "execution_count": 2,
   "metadata": {},
   "outputs": [
    {
     "name": "stdout",
     "output_type": "stream",
     "text": [
      "<class 'list'>\n",
      "5\n",
      "['wheat', 'corn', 'sugar beets', 'pinto beans', 1959]\n",
      "pinto beans\n",
      "<class 'str'>\n",
      "1959\n",
      "<class 'int'>\n"
     ]
    }
   ],
   "source": [
    "# There are four \"collection\" data types: lists, tuples, sets, dictionaries.\n",
    "# Lists are ordered, changeable, and allow duplicate members:\n",
    "\n",
    "Coloradothings = [\"wheat\", \"corn\", \"sugar beets\", \"pinto beans\", 1959]\n",
    "print(type(Coloradothings))\n",
    "print(len(Coloradothings))\n",
    "print(Coloradothings)\n",
    "print(Coloradothings[3])\n",
    "print(type(Coloradothings[3]))\n",
    "print(Coloradothings[4])\n",
    "print(type(Coloradothings[4]))"
   ]
  },
  {
   "cell_type": "code",
   "execution_count": 3,
   "metadata": {},
   "outputs": [
    {
     "name": "stdout",
     "output_type": "stream",
     "text": [
      "['wheat', 'corn', 'sugar beets', 'pinto beans', 1959, 'Amherst']\n",
      "['wheat', 'corn', 'sunflowers', 'sugar beets', 'pinto beans', 1959, 'Amherst']\n"
     ]
    }
   ],
   "source": [
    "# We can append to a list and insert in a list\n",
    "\n",
    "Coloradothings.append(\"Amherst\")\n",
    "print(Coloradothings)\n",
    "Coloradothings.insert(2, \"sunflowers\")\n",
    "print(Coloradothings)"
   ]
  },
  {
   "cell_type": "code",
   "execution_count": 4,
   "metadata": {},
   "outputs": [
    {
     "name": "stdout",
     "output_type": "stream",
     "text": [
      "<class 'str'>\n",
      "<class 'tuple'>\n",
      "<class 'tuple'>\n",
      "('Basketball', 'Corn')\n"
     ]
    }
   ],
   "source": [
    "# Tuples are ordered, unchangeable, and allow duplicate members:\n",
    "\n",
    "Indianathings = (\"Basketball\") # not a tuple\n",
    "print(type(Indianathings))\n",
    "Indianathings = (\"Basketball\",) # a tuple, must have comma after first item if \n",
    "                                # only one item to make a tuple\n",
    "print(type(Indianathings))\n",
    "Indianathings = (\"Basketball\", \"Corn\")\n",
    "print(type(Indianathings))\n",
    "print(Indianathings)\n",
    "#Indianathings.append(\"Wall street\") # uncomment this to see an error\n"
   ]
  },
  {
   "cell_type": "code",
   "execution_count": 5,
   "metadata": {},
   "outputs": [
    {
     "name": "stdout",
     "output_type": "stream",
     "text": [
      "<class 'set'>\n",
      "{'OATS', 'Gene Keady', 'Isoblue', 'students', 'professors', 'study sessions'}\n",
      "OATS\n",
      "Gene Keady\n",
      "Isoblue\n",
      "students\n",
      "professors\n",
      "study sessions\n",
      "True\n"
     ]
    }
   ],
   "source": [
    "# Sets are unordered, changeable (in the sense that can add and remove items), do \n",
    "# not allow duplicates:\n",
    "\n",
    "Purduethings = {\"OATS\", \"Isoblue\", \"students\", \"professors\", \"Gene Keady\", \"study sessions\"}\n",
    "print(type(Purduethings))\n",
    "print(Purduethings) # Note the order it prints\n",
    "\n",
    "for x in Purduethings: # Note the order with which the for loop executes\n",
    "    print(x)\n",
    "    \n",
    "print(\"OATS\" in Purduethings)"
   ]
  },
  {
   "cell_type": "code",
   "execution_count": 6,
   "metadata": {},
   "outputs": [
    {
     "name": "stdout",
     "output_type": "stream",
     "text": [
      "{'OATS', 'Gene Keady', 'Isoblue', 'students', 'professors', 'parties', 'Hoosiers', 'Bobby Knight', 'study sessions'}\n",
      "{'professors', 'students'}\n",
      "{'parties', 'Hoosiers', 'Bobby Knight'}\n",
      "False\n",
      "True\n"
     ]
    }
   ],
   "source": [
    "# Can perform classical set operations (union, intersection, difference, test subset):\n",
    "\n",
    "IUthings = {\"Hoosiers\", \"Bobby Knight\", \"students\", \"professors\", \"parties\"}\n",
    "print(Purduethings.union(IUthings))\n",
    "print(Purduethings.intersection(IUthings))\n",
    "print(IUthings.difference(Purduethings))\n",
    "print({\"Gene Cernan\",}.issubset(Purduethings))\n",
    "Purduethings.add(\"Gene Cernan\")\n",
    "print({\"Gene Cernan\",}.issubset(Purduethings))"
   ]
  },
  {
   "cell_type": "code",
   "execution_count": 7,
   "metadata": {},
   "outputs": [
    {
     "name": "stdout",
     "output_type": "stream",
     "text": [
      "<class 'dict'>\n",
      "{'brand': 'JD', 'model': '7720', 'year': 1978, 'color': 'green'}\n"
     ]
    }
   ],
   "source": [
    "# Dictionaries are unordered, changeable, and indexed. Written with \"{}\" but made \n",
    "# up of key-value pairs.\n",
    "\n",
    "OldCombine = {\"brand\": \"CASE\", \"model\": \"7130\", \"year\": 2014}\n",
    "NewCombine = {\"brand\": \"CASE\", \"model\": \"8240\", \"year\": 2016}\n",
    "Tractor1 = {\"brand\": \"CASE\", \"model\": \"290\", \"year\": 2013}\n",
    "Pickup = {\"brand\": \"CHEVY\", \"model\": \"Silverado\", \"year\": 2005}\n",
    "FavoriteOldCombineEver = {\"brand\": \"JD\", \"model\": \"7720\", \"year\": 1978, \"color\": \"green\"}\n",
    "print(type(FavoriteOldCombineEver))\n",
    "print(FavoriteOldCombineEver)"
   ]
  },
  {
   "cell_type": "code",
   "execution_count": 8,
   "metadata": {},
   "outputs": [
    {
     "name": "stdout",
     "output_type": "stream",
     "text": [
      "{'C1': {'brand': 'CASE', 'model': '7130', 'year': 2014}, 'C2': {'brand': 'CASE', 'model': '8240', 'year': 2016}, 'T1': {'brand': 'CASE', 'model': '290', 'year': 2013}, 'P1': {'brand': 'CHEVY', 'model': 'Silverado', 'year': 2005}, 'C3': {'brand': 'JD', 'model': '7720', 'year': 1978, 'color': 'green'}}\n"
     ]
    }
   ],
   "source": [
    "# We can create a dictionary of dictionaries:\n",
    "\n",
    "FarmEquipment = {\"C1\": OldCombine, \"C2\": NewCombine, \"T1\": Tractor1, \"P1\": Pickup, \"C3\": FavoriteOldCombineEver}\n",
    "print(FarmEquipment)"
   ]
  },
  {
   "cell_type": "markdown",
   "metadata": {},
   "source": [
    "## Control statements, while, for"
   ]
  },
  {
   "cell_type": "code",
   "execution_count": 63,
   "metadata": {},
   "outputs": [
    {
     "name": "stdout",
     "output_type": "stream",
     "text": [
      "a is greater than b\n"
     ]
    }
   ],
   "source": [
    "# If statements, logical conditions\n",
    "\n",
    "a = 5;\n",
    "b = 2;\n",
    "if b > a:\n",
    "    print(\"b is greater than a\")\n",
    "elif a == b:\n",
    "    print(\"a and b are equal\")\n",
    "else:\n",
    "    print(\"a is greater than b\")"
   ]
  },
  {
   "cell_type": "code",
   "execution_count": 11,
   "metadata": {},
   "outputs": [
    {
     "name": "stdout",
     "output_type": "stream",
     "text": [
      "1\n",
      "2\n",
      "3\n",
      "4\n",
      "5\n"
     ]
    }
   ],
   "source": [
    "# While loop: Execute while condition is true.\n",
    "\n",
    "i = 1\n",
    "while i < 6:\n",
    "    print(i)\n",
    "    i += 1"
   ]
  },
  {
   "cell_type": "code",
   "execution_count": 12,
   "metadata": {},
   "outputs": [
    {
     "name": "stdout",
     "output_type": "stream",
     "text": [
      "b\n",
      "a\n",
      "n\n",
      "a\n",
      "n\n",
      "a\n",
      "\n",
      "\n",
      "Try continue command\n",
      "\n",
      "\n",
      "b\n",
      "a\n",
      "a\n",
      "a\n"
     ]
    }
   ],
   "source": [
    "# For loop: Iterate over a sequence. Also, have break (stop a loop where it is \n",
    "# and exit) and continue (move to the next iteration of loop).\n",
    "\n",
    "for x in \"banana\":\n",
    "    print(x)\n",
    "    \n",
    "print(\"\\n\")    \n",
    "print(\"Try continue command\")\n",
    "print(\"\\n\")\n",
    "\n",
    "for x in \"banana\":\n",
    "    if x == \"n\":\n",
    "        continue\n",
    "    print(x)"
   ]
  },
  {
   "cell_type": "markdown",
   "metadata": {},
   "source": [
    "## The NumPy Package"
   ]
  },
  {
   "cell_type": "code",
   "execution_count": 13,
   "metadata": {},
   "outputs": [
    {
     "data": {
      "text/plain": [
       "'1.17.2'"
      ]
     },
     "execution_count": 13,
     "metadata": {},
     "output_type": "execute_result"
    }
   ],
   "source": [
    "# All data manipulated by a computer is represented in binary. In otherwords, via one \n",
    "# method or another, all data -- temperature sensor readings, hourly barometric pressure \n",
    "# from your Davis weather station, an audio file, images from your Bushnell game camera, \n",
    "# a yield map -- are represented as arrays of numbers.\n",
    "#\n",
    "# NumPy (Numerical Python): provides an efficient interface to store and compute on \n",
    "# dense data buffers. NumPy arrays are much more efficient than Python's built-in list \n",
    "# data type.\n",
    "\n",
    "import numpy as np\n",
    "np.__version__"
   ]
  },
  {
   "cell_type": "code",
   "execution_count": 14,
   "metadata": {},
   "outputs": [],
   "source": [
    "# Access documentation about NumPy (also see http://www.numpy.org):\n",
    "np?"
   ]
  },
  {
   "cell_type": "code",
   "execution_count": 15,
   "metadata": {},
   "outputs": [
    {
     "name": "stdout",
     "output_type": "stream",
     "text": [
      "1\n",
      "<class 'int'>\n",
      "28\n"
     ]
    }
   ],
   "source": [
    "# A C integer is essentially a label for a position in memory whose bytes encode an \n",
    "# integer value.\n",
    "#\n",
    "# A Python integer is a label for a position in memory containing a C structure that \n",
    "# contains the Python object information including the bytes that encode the integer \n",
    "# value.\n",
    "\n",
    "import sys\n",
    "L = 1\n",
    "print(L)\n",
    "print(type(L))\n",
    "print(sys.getsizeof(L))     # sys.getsizeof() returns the number of bytes needed to encode \n",
    "                            # the object"
   ]
  },
  {
   "cell_type": "code",
   "execution_count": 16,
   "metadata": {},
   "outputs": [
    {
     "name": "stdout",
     "output_type": "stream",
     "text": [
      "1000\n",
      "<class 'int'>\n",
      "28\n"
     ]
    }
   ],
   "source": [
    "L = 1000\n",
    "print(L)\n",
    "print(type(L))\n",
    "print(sys.getsizeof(L))"
   ]
  },
  {
   "cell_type": "code",
   "execution_count": 17,
   "metadata": {},
   "outputs": [
    {
     "name": "stdout",
     "output_type": "stream",
     "text": [
      "1000000\n",
      "<class 'int'>\n",
      "28\n"
     ]
    }
   ],
   "source": [
    "L = 1000000\n",
    "print(L)\n",
    "print(type(L))\n",
    "print(sys.getsizeof(L))"
   ]
  },
  {
   "cell_type": "code",
   "execution_count": 18,
   "metadata": {},
   "outputs": [
    {
     "name": "stdout",
     "output_type": "stream",
     "text": [
      "1000000000\n",
      "<class 'int'>\n",
      "28\n"
     ]
    }
   ],
   "source": [
    "L = 1000000000\n",
    "print(L)\n",
    "print(type(L))\n",
    "print(sys.getsizeof(L))"
   ]
  },
  {
   "cell_type": "code",
   "execution_count": 19,
   "metadata": {},
   "outputs": [
    {
     "name": "stdout",
     "output_type": "stream",
     "text": [
      "1000000000000000000\n",
      "<class 'int'>\n",
      "32\n"
     ]
    }
   ],
   "source": [
    "# Finally we make the integer large enough that its required size in bytes changes.\n",
    "L1 = L*L\n",
    "print(L1)\n",
    "print(type(L1))\n",
    "print(sys.getsizeof(L1))"
   ]
  },
  {
   "cell_type": "code",
   "execution_count": 20,
   "metadata": {},
   "outputs": [
    {
     "name": "stdout",
     "output_type": "stream",
     "text": [
      "1\n",
      "<class 'str'>\n",
      "50\n"
     ]
    }
   ],
   "source": [
    "L = \"1\"\n",
    "print(L)\n",
    "print(type(L))\n",
    "print(sys.getsizeof(L))"
   ]
  },
  {
   "cell_type": "code",
   "execution_count": 21,
   "metadata": {},
   "outputs": [
    {
     "name": "stdout",
     "output_type": "stream",
     "text": [
      "1000\n",
      "<class 'str'>\n",
      "53\n"
     ]
    }
   ],
   "source": [
    "L = \"1000\"\n",
    "print(L)\n",
    "print(type(L))\n",
    "print(sys.getsizeof(L))"
   ]
  },
  {
   "cell_type": "code",
   "execution_count": 22,
   "metadata": {},
   "outputs": [
    {
     "name": "stdout",
     "output_type": "stream",
     "text": [
      "10000\n",
      "<class 'str'>\n",
      "54\n"
     ]
    }
   ],
   "source": [
    "L = \"10000\"\n",
    "print(L)\n",
    "print(type(L))\n",
    "print(sys.getsizeof(L))"
   ]
  },
  {
   "cell_type": "code",
   "execution_count": 23,
   "metadata": {},
   "outputs": [
    {
     "name": "stdout",
     "output_type": "stream",
     "text": [
      "[0, 1, 2, 3, 4, 5, 6, 7, 8, 9, 10]\n",
      "<class 'list'>\n",
      "<class 'int'>\n",
      "216\n"
     ]
    }
   ],
   "source": [
    "L1 = list(range(11))\n",
    "print(L1)\n",
    "print(type(L1))\n",
    "print(type(L1[0]))\n",
    "print(sys.getsizeof(L1))"
   ]
  },
  {
   "cell_type": "code",
   "execution_count": 24,
   "metadata": {},
   "outputs": [
    {
     "name": "stdout",
     "output_type": "stream",
     "text": [
      "['0', '1', '2', '3', '4', '5', '6', '7', '8', '9', '10']\n",
      "<class 'list'>\n",
      "<class 'str'>\n",
      "200\n"
     ]
    }
   ],
   "source": [
    "L2 = [str(c) for c in L1]\n",
    "print(L2)\n",
    "print(type(L2))\n",
    "print(type(L2[0]))\n",
    "print(sys.getsizeof(L2))"
   ]
  },
  {
   "cell_type": "code",
   "execution_count": 25,
   "metadata": {},
   "outputs": [
    {
     "name": "stdout",
     "output_type": "stream",
     "text": [
      "[True, 2, '3', 4.0, 5]\n",
      "<class 'list'>\n",
      "[<class 'bool'>, <class 'int'>, <class 'str'>, <class 'float'>, <class 'int'>]\n",
      "112\n"
     ]
    }
   ],
   "source": [
    "L3 = [True, 2, \"3\", 4.0, 5]\n",
    "print(L3)\n",
    "print(type(L3))\n",
    "print([type(item) for item in L3])\n",
    "print(sys.getsizeof(L3))"
   ]
  },
  {
   "cell_type": "code",
   "execution_count": 26,
   "metadata": {},
   "outputs": [
    {
     "name": "stdout",
     "output_type": "stream",
     "text": [
      "array('i', [0, 1, 2, 3, 4, 5, 6, 7, 8, 9, 10, 11, 12, 13, 14, 15, 16, 17, 18, 19, 20, 21, 22, 23, 24, 25, 26, 27, 28, 29, 30, 31, 32, 33, 34, 35, 36, 37, 38, 39, 40, 41, 42, 43, 44, 45, 46, 47, 48, 49, 50, 51, 52, 53, 54, 55, 56, 57, 58, 59, 60, 61, 62, 63, 64, 65, 66, 67, 68, 69, 70, 71, 72, 73, 74, 75, 76, 77, 78, 79, 80, 81, 82, 83, 84, 85, 86, 87, 88, 89, 90, 91, 92, 93, 94, 95, 96, 97, 98, 99])\n",
      "<class 'array.array'>\n",
      "464\n",
      "\n",
      "\n",
      "[0, 1, 2, 3, 4, 5, 6, 7, 8, 9, 10, 11, 12, 13, 14, 15, 16, 17, 18, 19, 20, 21, 22, 23, 24, 25, 26, 27, 28, 29, 30, 31, 32, 33, 34, 35, 36, 37, 38, 39, 40, 41, 42, 43, 44, 45, 46, 47, 48, 49, 50, 51, 52, 53, 54, 55, 56, 57, 58, 59, 60, 61, 62, 63, 64, 65, 66, 67, 68, 69, 70, 71, 72, 73, 74, 75, 76, 77, 78, 79, 80, 81, 82, 83, 84, 85, 86, 87, 88, 89, 90, 91, 92, 93, 94, 95, 96, 97, 98, 99]\n",
      "<class 'list'>\n",
      "1016\n"
     ]
    }
   ],
   "source": [
    "# Comparing Python list and Python array\n",
    "\n",
    "import array\n",
    "L = list(range(100))\n",
    "A = array.array('i',L)\n",
    "\n",
    "print(A)\n",
    "print(type(A))\n",
    "print(sys.getsizeof(A))\n",
    "\n",
    "print(\"\\n\")\n",
    "\n",
    "print(L)\n",
    "print(type(L))\n",
    "print(sys.getsizeof(L))"
   ]
  },
  {
   "cell_type": "code",
   "execution_count": 27,
   "metadata": {},
   "outputs": [
    {
     "name": "stdout",
     "output_type": "stream",
     "text": [
      "[ 0  1  2  3  4  5  6  7  8  9 10 11 12 13 14 15 16 17 18 19 20 21 22 23\n",
      " 24 25 26 27 28 29 30 31 32 33 34 35 36 37 38 39 40 41 42 43 44 45 46 47\n",
      " 48 49 50 51 52 53 54 55 56 57 58 59 60 61 62 63 64 65 66 67 68 69 70 71\n",
      " 72 73 74 75 76 77 78 79 80 81 82 83 84 85 86 87 88 89 90 91 92 93 94 95\n",
      " 96 97 98 99]\n",
      "<class 'numpy.ndarray'>\n",
      "896\n",
      "itemsize: 8 bytes\n",
      "nbytes: 800 bytes\n"
     ]
    }
   ],
   "source": [
    "# The Python array object offers (more) efficient storage of array-based data than does \n",
    "# the list object. Numpy arrays also add efficient computations on that data.\n",
    "\n",
    "ND = np.array(range(100))  # np.array is used to create an ndarray from a Python list\n",
    "print(ND)\n",
    "print(type(ND))\n",
    "print(sys.getsizeof(ND))\n",
    "ND\n",
    "print(\"itemsize:\", ND.itemsize, \"bytes\")\n",
    "print(\"nbytes:\", ND.nbytes, \"bytes\")"
   ]
  },
  {
   "cell_type": "markdown",
   "metadata": {},
   "source": [
    "## Plotting examples with Matplotlib"
   ]
  },
  {
   "cell_type": "code",
   "execution_count": 28,
   "metadata": {},
   "outputs": [
    {
     "name": "stdout",
     "output_type": "stream",
     "text": [
      "A\t Coloradothings\t FarmEquipment\t FavoriteOldCombineEver\t IUthings\t Indianathings\t L\t L1\t L2\t \n",
      "L3\t ND\t NewCombine\t OldCombine\t Pickup\t Purduethings\t Tractor1\t a\t array\t \n",
      "b\t i\t np\t sys\t x\t \n"
     ]
    }
   ],
   "source": [
    "# Check to see what variables we have\n",
    "%who"
   ]
  },
  {
   "cell_type": "code",
   "execution_count": 29,
   "metadata": {},
   "outputs": [
    {
     "name": "stdout",
     "output_type": "stream",
     "text": [
      "A\t Coloradothings\t FarmEquipment\t FavoriteOldCombineEver\t IUthings\t Indianathings\t L\t L1\t L2\t \n",
      "L3\t ND\t NewCombine\t OldCombine\t Pickup\t Purduethings\t Tractor1\t a\t array\t \n",
      "b\t i\t np\t sys\t x\t y\t \n"
     ]
    }
   ],
   "source": [
    "x = np.array([1, 2, 3, 4, 5, 6, 7, 8, 9, 10]);\n",
    "y = np.array([3, 1, 6, 5, 4, 11, -1, 1, 2, 6]);\n",
    "%who"
   ]
  },
  {
   "cell_type": "code",
   "execution_count": 30,
   "metadata": {},
   "outputs": [
    {
     "data": {
      "text/plain": [
       "'3.1.1'"
      ]
     },
     "execution_count": 30,
     "metadata": {},
     "output_type": "execute_result"
    }
   ],
   "source": [
    "# Import matplotlib\n",
    "import matplotlib as mpl\n",
    "mpl.__version__"
   ]
  },
  {
   "cell_type": "code",
   "execution_count": 31,
   "metadata": {},
   "outputs": [
    {
     "data": {
      "text/plain": [
       "['_classic_test',\n",
       " 'bmh',\n",
       " 'classic',\n",
       " 'dark_background',\n",
       " 'fast',\n",
       " 'fivethirtyeight',\n",
       " 'ggplot',\n",
       " 'grayscale',\n",
       " 'seaborn-bright',\n",
       " 'seaborn-colorblind']"
      ]
     },
     "execution_count": 31,
     "metadata": {},
     "output_type": "execute_result"
    }
   ],
   "source": [
    "import matplotlib.pyplot as plt\n",
    "plt.style.available[:10]"
   ]
  },
  {
   "cell_type": "code",
   "execution_count": 32,
   "metadata": {},
   "outputs": [
    {
     "name": "stdout",
     "output_type": "stream",
     "text": [
      "[ 1  2  3  4  5  6  7  8  9 10]\n"
     ]
    }
   ],
   "source": [
    "print(x)"
   ]
  },
  {
   "cell_type": "code",
   "execution_count": 33,
   "metadata": {},
   "outputs": [
    {
     "name": "stdout",
     "output_type": "stream",
     "text": [
      "[ 3  1  6  5  4 11 -1  1  2  6]\n"
     ]
    }
   ],
   "source": [
    "print(y)"
   ]
  },
  {
   "cell_type": "code",
   "execution_count": 34,
   "metadata": {},
   "outputs": [
    {
     "data": {
      "image/png": "[encoded data removed]",
      "text/plain": [
       "<Figure size 432x288 with 1 Axes>"
      ]
     },
     "metadata": {
      "needs_background": "light"
     },
     "output_type": "display_data"
    }
   ],
   "source": [
    "%matplotlib inline\n",
    "fig = plt.figure()\n",
    "plt.style.use('classic')\n",
    "plt.plot(x, y)\n",
    "plt.title(\"Example Plot\")\n",
    "plt.xlabel(\"x\")\n",
    "plt.ylabel(\"y\")\n",
    "plt.grid()"
   ]
  },
  {
   "cell_type": "code",
   "execution_count": 35,
   "metadata": {},
   "outputs": [
    {
     "data": {
      "text/plain": [
       "[<matplotlib.lines.Line2D at 0x1157448d0>]"
      ]
     },
     "execution_count": 35,
     "metadata": {},
     "output_type": "execute_result"
    },
    {
     "data": {
      "image/png": "[encoded data removed]",
      "text/plain": [
       "<Figure size 432x288 with 1 Axes>"
      ]
     },
     "metadata": {
      "needs_background": "light"
     },
     "output_type": "display_data"
    }
   ],
   "source": [
    "x = np.linspace(0, 10, 100)\n",
    "%matplotlib inline\n",
    "fig2 = plt.figure()\n",
    "plt.style.use('classic')\n",
    "plt.plot(x, np.sin(x))\n",
    "plt.plot(x, np.cos(x))\n"
   ]
  },
  {
   "cell_type": "code",
   "execution_count": 36,
   "metadata": {},
   "outputs": [
    {
     "data": {
      "image/png": "[encoded data removed]",
      "text/plain": [
       "<Figure size 432x288 with 1 Axes>"
      ]
     },
     "metadata": {
      "needs_background": "light"
     },
     "output_type": "display_data"
    }
   ],
   "source": [
    "x = np.random.randn(1000)\n",
    "y = np.random.randn(1000)\n",
    "%matplotlib inline\n",
    "\n",
    "plt.hist2d(x, y, bins=30, cmap='Blues');"
   ]
  },
  {
   "cell_type": "markdown",
   "metadata": {},
   "source": [
    "## The Pandas Package"
   ]
  },
  {
   "cell_type": "code",
   "execution_count": 37,
   "metadata": {},
   "outputs": [],
   "source": [
    "# STOPPED HERE ON FIRST DAY ..."
   ]
  },
  {
   "cell_type": "code",
   "execution_count": 38,
   "metadata": {},
   "outputs": [],
   "source": [
    "# Pandas is built on top of NumPy to create an efficient implementation of\n",
    "# a DataFrame ... which is a multidimensional array with attached row and\n",
    "# column labels. Mimics the way data is handled in R and popular spreadsheets.\n",
    "# There is also a Series object worth using."
   ]
  },
  {
   "cell_type": "code",
   "execution_count": 39,
   "metadata": {},
   "outputs": [
    {
     "data": {
      "text/plain": [
       "'0.25.2'"
      ]
     },
     "execution_count": 39,
     "metadata": {},
     "output_type": "execute_result"
    }
   ],
   "source": [
    "import pandas as pd\n",
    "pd.__version__"
   ]
  },
  {
   "cell_type": "code",
   "execution_count": 40,
   "metadata": {},
   "outputs": [],
   "source": [
    "df290 = pd.read_csv('./data/case-290-gps-fs10.csv')"
   ]
  },
  {
   "cell_type": "code",
   "execution_count": 41,
   "metadata": {},
   "outputs": [
    {
     "name": "stdout",
     "output_type": "stream",
     "text": [
      "<class 'pandas.core.frame.DataFrame'>\n"
     ]
    }
   ],
   "source": [
    "print(type(df290))"
   ]
  },
  {
   "cell_type": "code",
   "execution_count": 42,
   "metadata": {},
   "outputs": [
    {
     "data": {
      "text/html": [
       "<div>\n",
       "<style scoped>\n",
       "    .dataframe tbody tr th:only-of-type {\n",
       "        vertical-align: middle;\n",
       "    }\n",
       "\n",
       "    .dataframe tbody tr th {\n",
       "        vertical-align: top;\n",
       "    }\n",
       "\n",
       "    .dataframe thead th {\n",
       "        text-align: right;\n",
       "    }\n",
       "</style>\n",
       "<table border=\"1\" class=\"dataframe\">\n",
       "  <thead>\n",
       "    <tr style=\"text-align: right;\">\n",
       "      <th></th>\n",
       "      <th>gpsTime</th>\n",
       "      <th>lat</th>\n",
       "      <th>lon</th>\n",
       "      <th>altitude</th>\n",
       "      <th>speed</th>\n",
       "      <th>bearing</th>\n",
       "      <th>accuracy</th>\n",
       "    </tr>\n",
       "  </thead>\n",
       "  <tbody>\n",
       "    <tr>\n",
       "      <th>0</th>\n",
       "      <td>1530997640000</td>\n",
       "      <td>40.778404</td>\n",
       "      <td>-102.368275</td>\n",
       "      <td>1152.900024</td>\n",
       "      <td>3.0</td>\n",
       "      <td>77.5</td>\n",
       "      <td>3</td>\n",
       "    </tr>\n",
       "    <tr>\n",
       "      <th>1</th>\n",
       "      <td>1530997641000</td>\n",
       "      <td>40.778415</td>\n",
       "      <td>-102.368247</td>\n",
       "      <td>1153.199951</td>\n",
       "      <td>3.0</td>\n",
       "      <td>65.9</td>\n",
       "      <td>3</td>\n",
       "    </tr>\n",
       "    <tr>\n",
       "      <th>2</th>\n",
       "      <td>1530997642000</td>\n",
       "      <td>40.778433</td>\n",
       "      <td>-102.368226</td>\n",
       "      <td>1152.699951</td>\n",
       "      <td>3.0</td>\n",
       "      <td>49.9</td>\n",
       "      <td>3</td>\n",
       "    </tr>\n",
       "    <tr>\n",
       "      <th>3</th>\n",
       "      <td>1530997643000</td>\n",
       "      <td>40.778456</td>\n",
       "      <td>-102.368210</td>\n",
       "      <td>1152.599976</td>\n",
       "      <td>3.0</td>\n",
       "      <td>36.1</td>\n",
       "      <td>3</td>\n",
       "    </tr>\n",
       "    <tr>\n",
       "      <th>4</th>\n",
       "      <td>1530997644000</td>\n",
       "      <td>40.778481</td>\n",
       "      <td>-102.368201</td>\n",
       "      <td>1152.099976</td>\n",
       "      <td>3.0</td>\n",
       "      <td>24.8</td>\n",
       "      <td>3</td>\n",
       "    </tr>\n",
       "    <tr>\n",
       "      <th>...</th>\n",
       "      <td>...</td>\n",
       "      <td>...</td>\n",
       "      <td>...</td>\n",
       "      <td>...</td>\n",
       "      <td>...</td>\n",
       "      <td>...</td>\n",
       "      <td>...</td>\n",
       "    </tr>\n",
       "    <tr>\n",
       "      <th>8227</th>\n",
       "      <td>1531010458000</td>\n",
       "      <td>40.778583</td>\n",
       "      <td>-102.364240</td>\n",
       "      <td>1156.000000</td>\n",
       "      <td>2.5</td>\n",
       "      <td>200.4</td>\n",
       "      <td>3</td>\n",
       "    </tr>\n",
       "    <tr>\n",
       "      <th>8228</th>\n",
       "      <td>1531010459000</td>\n",
       "      <td>40.778564</td>\n",
       "      <td>-102.364252</td>\n",
       "      <td>1156.199951</td>\n",
       "      <td>2.5</td>\n",
       "      <td>204.8</td>\n",
       "      <td>3</td>\n",
       "    </tr>\n",
       "    <tr>\n",
       "      <th>8229</th>\n",
       "      <td>1531010460000</td>\n",
       "      <td>40.778547</td>\n",
       "      <td>-102.364267</td>\n",
       "      <td>1156.099976</td>\n",
       "      <td>2.5</td>\n",
       "      <td>208.9</td>\n",
       "      <td>3</td>\n",
       "    </tr>\n",
       "    <tr>\n",
       "      <th>8230</th>\n",
       "      <td>1531012947000</td>\n",
       "      <td>40.778424</td>\n",
       "      <td>-102.368198</td>\n",
       "      <td>1155.699951</td>\n",
       "      <td>8.0</td>\n",
       "      <td>269.8</td>\n",
       "      <td>3</td>\n",
       "    </tr>\n",
       "    <tr>\n",
       "      <th>8231</th>\n",
       "      <td>1531012948000</td>\n",
       "      <td>40.778424</td>\n",
       "      <td>-102.368297</td>\n",
       "      <td>1156.000000</td>\n",
       "      <td>8.5</td>\n",
       "      <td>269.5</td>\n",
       "      <td>3</td>\n",
       "    </tr>\n",
       "  </tbody>\n",
       "</table>\n",
       "<p>8232 rows × 7 columns</p>\n",
       "</div>"
      ],
      "text/plain": [
       "            gpsTime        lat         lon     altitude  speed  bearing  \\\n",
       "0     1530997640000  40.778404 -102.368275  1152.900024    3.0     77.5   \n",
       "1     1530997641000  40.778415 -102.368247  1153.199951    3.0     65.9   \n",
       "2     1530997642000  40.778433 -102.368226  1152.699951    3.0     49.9   \n",
       "3     1530997643000  40.778456 -102.368210  1152.599976    3.0     36.1   \n",
       "4     1530997644000  40.778481 -102.368201  1152.099976    3.0     24.8   \n",
       "...             ...        ...         ...          ...    ...      ...   \n",
       "8227  1531010458000  40.778583 -102.364240  1156.000000    2.5    200.4   \n",
       "8228  1531010459000  40.778564 -102.364252  1156.199951    2.5    204.8   \n",
       "8229  1531010460000  40.778547 -102.364267  1156.099976    2.5    208.9   \n",
       "8230  1531012947000  40.778424 -102.368198  1155.699951    8.0    269.8   \n",
       "8231  1531012948000  40.778424 -102.368297  1156.000000    8.5    269.5   \n",
       "\n",
       "      accuracy  \n",
       "0            3  \n",
       "1            3  \n",
       "2            3  \n",
       "3            3  \n",
       "4            3  \n",
       "...        ...  \n",
       "8227         3  \n",
       "8228         3  \n",
       "8229         3  \n",
       "8230         3  \n",
       "8231         3  \n",
       "\n",
       "[8232 rows x 7 columns]"
      ]
     },
     "execution_count": 42,
     "metadata": {},
     "output_type": "execute_result"
    }
   ],
   "source": [
    "df290"
   ]
  },
  {
   "cell_type": "code",
   "execution_count": 43,
   "metadata": {},
   "outputs": [
    {
     "data": {
      "text/plain": [
       "0       1530997640000\n",
       "1       1530997641000\n",
       "2       1530997642000\n",
       "3       1530997643000\n",
       "4       1530997644000\n",
       "            ...      \n",
       "8227    1531010458000\n",
       "8228    1531010459000\n",
       "8229    1531010460000\n",
       "8230    1531012947000\n",
       "8231    1531012948000\n",
       "Name: gpsTime, Length: 8232, dtype: int64"
      ]
     },
     "execution_count": 43,
     "metadata": {},
     "output_type": "execute_result"
    }
   ],
   "source": [
    "df290.gpsTime"
   ]
  },
  {
   "cell_type": "code",
   "execution_count": 44,
   "metadata": {},
   "outputs": [
    {
     "data": {
      "text/plain": [
       "48.5476166920345"
      ]
     },
     "execution_count": 44,
     "metadata": {},
     "output_type": "execute_result"
    }
   ],
   "source": [
    "# Looks like GPS time is a 64 bit integer expressing time in milliseconds. If so,\n",
    "# the clock above started at df.gpsTime[0]/(1000*3600*24*364) years ago:\n",
    "\n",
    "df290.gpsTime[0]/(1000*3600*24*365)"
   ]
  },
  {
   "cell_type": "code",
   "execution_count": 45,
   "metadata": {},
   "outputs": [
    {
     "data": {
      "text/plain": [
       "584942417.355072"
      ]
     },
     "execution_count": 45,
     "metadata": {},
     "output_type": "execute_result"
    }
   ],
   "source": [
    "# The total time that a clock time representing a 64 bit integer could \"hold\" before\n",
    "# wrapping would be (in years):\n",
    "\n",
    "(2 ** 64)/(1000*3600*24*365)"
   ]
  },
  {
   "cell_type": "code",
   "execution_count": 46,
   "metadata": {},
   "outputs": [
    {
     "data": {
      "text/plain": [
       "4.25"
      ]
     },
     "execution_count": 46,
     "metadata": {},
     "output_type": "execute_result"
    }
   ],
   "source": [
    "# The elapsed time (in hours) of the tractor log file is:\n",
    "\n",
    "round((max(df290.gpsTime) - min(df290.gpsTime))/(1000*3600), 2)"
   ]
  },
  {
   "cell_type": "code",
   "execution_count": 47,
   "metadata": {},
   "outputs": [
    {
     "data": {
      "text/plain": [
       "[<matplotlib.lines.Line2D at 0x105cafc10>]"
      ]
     },
     "execution_count": 47,
     "metadata": {},
     "output_type": "execute_result"
    },
    {
     "data": {
      "image/png": "[encoded data removed]",
      "text/plain": [
       "<Figure size 432x288 with 1 Axes>"
      ]
     },
     "metadata": {
      "needs_background": "light"
     },
     "output_type": "display_data"
    }
   ],
   "source": [
    "%matplotlib inline\n",
    "fig = plt.figure()\n",
    "plt.style.use('classic')\n",
    "plt.plot(df290.gpsTime)\n",
    "#plt.title(\"Example Plot\")\n",
    "#plt.xlabel(\"x\")\n",
    "#plt.ylabel(\"y\")\n",
    "#plt.grid()"
   ]
  },
  {
   "cell_type": "code",
   "execution_count": 48,
   "metadata": {},
   "outputs": [],
   "source": [
    "# How to fix the odd units and make the plot axis make more sense ...\n",
    "\n",
    "newdf = round((df290.gpsTime - min(df290.gpsTime))/(1000*3600), 4)"
   ]
  },
  {
   "cell_type": "code",
   "execution_count": 49,
   "metadata": {},
   "outputs": [
    {
     "data": {
      "text/plain": [
       "0       0.0000\n",
       "1       0.0003\n",
       "2       0.0006\n",
       "3       0.0008\n",
       "4       0.0011\n",
       "         ...  \n",
       "8227    3.5606\n",
       "8228    3.5608\n",
       "8229    3.5611\n",
       "8230    4.2519\n",
       "8231    4.2522\n",
       "Name: gpsTime, Length: 8232, dtype: float64"
      ]
     },
     "execution_count": 49,
     "metadata": {},
     "output_type": "execute_result"
    }
   ],
   "source": [
    "newdf"
   ]
  },
  {
   "cell_type": "code",
   "execution_count": 50,
   "metadata": {},
   "outputs": [
    {
     "data": {
      "image/png": "[encoded data removed]",
      "text/plain": [
       "<Figure size 432x288 with 1 Axes>"
      ]
     },
     "metadata": {
      "needs_background": "light"
     },
     "output_type": "display_data"
    }
   ],
   "source": [
    "%matplotlib inline\n",
    "fig = plt.figure()\n",
    "plt.style.use('classic')\n",
    "plt.plot(newdf)\n",
    "plt.title(\"Elapsed Time in Case 290 Log\")\n",
    "plt.xlabel(\"Observation Number\")\n",
    "plt.ylabel(\"Time in Hours\")\n",
    "plt.grid()"
   ]
  },
  {
   "cell_type": "code",
   "execution_count": 51,
   "metadata": {},
   "outputs": [],
   "source": [
    "# From the above plot can see that the logger must have been turned off at\n",
    "# various times because of the jumps in gpsTime in the log. Might be interesting\n",
    "# to see where the tractor was when these events occurred."
   ]
  },
  {
   "cell_type": "code",
   "execution_count": 52,
   "metadata": {},
   "outputs": [
    {
     "data": {
      "text/plain": [
       "0       3.0\n",
       "1       3.0\n",
       "2       3.0\n",
       "3       3.0\n",
       "4       3.0\n",
       "       ... \n",
       "8227    2.5\n",
       "8228    2.5\n",
       "8229    2.5\n",
       "8230    8.0\n",
       "8231    8.5\n",
       "Name: speed, Length: 8232, dtype: float64"
      ]
     },
     "execution_count": 52,
     "metadata": {},
     "output_type": "execute_result"
    }
   ],
   "source": [
    "df290.speed"
   ]
  },
  {
   "cell_type": "code",
   "execution_count": 53,
   "metadata": {},
   "outputs": [
    {
     "data": {
      "image/png": "[encoded data removed]",
      "text/plain": [
       "<Figure size 432x288 with 1 Axes>"
      ]
     },
     "metadata": {
      "needs_background": "light"
     },
     "output_type": "display_data"
    }
   ],
   "source": [
    "%matplotlib inline\n",
    "fig = plt.figure()\n",
    "plt.style.use('classic')\n",
    "plt.plot(df290.speed)\n",
    "plt.title(\"Speed in Case 290 Log\")\n",
    "plt.xlabel(\"Observation Number\")\n",
    "plt.ylabel(\"Speed in Meters per second\")\n",
    "plt.grid()"
   ]
  },
  {
   "cell_type": "code",
   "execution_count": 54,
   "metadata": {},
   "outputs": [],
   "source": [
    "df7130 = pd.read_csv('./data/case-7130-gps-fs10.csv')"
   ]
  },
  {
   "cell_type": "code",
   "execution_count": 55,
   "metadata": {},
   "outputs": [
    {
     "name": "stdout",
     "output_type": "stream",
     "text": [
      "A\t Coloradothings\t FarmEquipment\t FavoriteOldCombineEver\t IUthings\t Indianathings\t L\t L1\t L2\t \n",
      "L3\t ND\t NewCombine\t OldCombine\t Pickup\t Purduethings\t Tractor1\t a\t array\t \n",
      "b\t df290\t df7130\t fig\t fig2\t i\t mpl\t newdf\t np\t \n",
      "pd\t plt\t sys\t x\t y\t \n"
     ]
    }
   ],
   "source": [
    "%who"
   ]
  },
  {
   "cell_type": "code",
   "execution_count": 56,
   "metadata": {},
   "outputs": [
    {
     "data": {
      "text/html": [
       "<div>\n",
       "<style scoped>\n",
       "    .dataframe tbody tr th:only-of-type {\n",
       "        vertical-align: middle;\n",
       "    }\n",
       "\n",
       "    .dataframe tbody tr th {\n",
       "        vertical-align: top;\n",
       "    }\n",
       "\n",
       "    .dataframe thead th {\n",
       "        text-align: right;\n",
       "    }\n",
       "</style>\n",
       "<table border=\"1\" class=\"dataframe\">\n",
       "  <thead>\n",
       "    <tr style=\"text-align: right;\">\n",
       "      <th></th>\n",
       "      <th>gpsTime</th>\n",
       "      <th>lat</th>\n",
       "      <th>lon</th>\n",
       "      <th>altitude</th>\n",
       "      <th>speed</th>\n",
       "      <th>bearing</th>\n",
       "      <th>accuracy</th>\n",
       "    </tr>\n",
       "  </thead>\n",
       "  <tbody>\n",
       "    <tr>\n",
       "      <th>0</th>\n",
       "      <td>1530997255000</td>\n",
       "      <td>40.778407</td>\n",
       "      <td>-102.368273</td>\n",
       "      <td>1156.800049</td>\n",
       "      <td>1.25</td>\n",
       "      <td>67.2</td>\n",
       "      <td>3</td>\n",
       "    </tr>\n",
       "    <tr>\n",
       "      <th>1</th>\n",
       "      <td>1530997256000</td>\n",
       "      <td>40.778415</td>\n",
       "      <td>-102.368261</td>\n",
       "      <td>1156.400024</td>\n",
       "      <td>1.25</td>\n",
       "      <td>54.4</td>\n",
       "      <td>3</td>\n",
       "    </tr>\n",
       "    <tr>\n",
       "      <th>2</th>\n",
       "      <td>1530997257000</td>\n",
       "      <td>40.778426</td>\n",
       "      <td>-102.368251</td>\n",
       "      <td>1156.599976</td>\n",
       "      <td>1.25</td>\n",
       "      <td>41.2</td>\n",
       "      <td>3</td>\n",
       "    </tr>\n",
       "    <tr>\n",
       "      <th>3</th>\n",
       "      <td>1530997258000</td>\n",
       "      <td>40.778437</td>\n",
       "      <td>-102.368243</td>\n",
       "      <td>1156.099976</td>\n",
       "      <td>1.25</td>\n",
       "      <td>31.2</td>\n",
       "      <td>3</td>\n",
       "    </tr>\n",
       "    <tr>\n",
       "      <th>4</th>\n",
       "      <td>1530997259000</td>\n",
       "      <td>40.778449</td>\n",
       "      <td>-102.368239</td>\n",
       "      <td>1155.800049</td>\n",
       "      <td>1.25</td>\n",
       "      <td>22.8</td>\n",
       "      <td>3</td>\n",
       "    </tr>\n",
       "    <tr>\n",
       "      <th>...</th>\n",
       "      <td>...</td>\n",
       "      <td>...</td>\n",
       "      <td>...</td>\n",
       "      <td>...</td>\n",
       "      <td>...</td>\n",
       "      <td>...</td>\n",
       "      <td>...</td>\n",
       "    </tr>\n",
       "    <tr>\n",
       "      <th>13998</th>\n",
       "      <td>1531011253000</td>\n",
       "      <td>40.778512</td>\n",
       "      <td>-102.365108</td>\n",
       "      <td>1153.199951</td>\n",
       "      <td>2.25</td>\n",
       "      <td>260.6</td>\n",
       "      <td>3</td>\n",
       "    </tr>\n",
       "    <tr>\n",
       "      <th>13999</th>\n",
       "      <td>1531011254000</td>\n",
       "      <td>40.778508</td>\n",
       "      <td>-102.365137</td>\n",
       "      <td>1153.000000</td>\n",
       "      <td>2.25</td>\n",
       "      <td>258.1</td>\n",
       "      <td>3</td>\n",
       "    </tr>\n",
       "    <tr>\n",
       "      <th>14000</th>\n",
       "      <td>1531011255000</td>\n",
       "      <td>40.778502</td>\n",
       "      <td>-102.365165</td>\n",
       "      <td>1153.000000</td>\n",
       "      <td>2.25</td>\n",
       "      <td>253.8</td>\n",
       "      <td>3</td>\n",
       "    </tr>\n",
       "    <tr>\n",
       "      <th>14001</th>\n",
       "      <td>1531011322000</td>\n",
       "      <td>40.778430</td>\n",
       "      <td>-102.368168</td>\n",
       "      <td>1150.199951</td>\n",
       "      <td>8.50</td>\n",
       "      <td>269.8</td>\n",
       "      <td>3</td>\n",
       "    </tr>\n",
       "    <tr>\n",
       "      <th>14002</th>\n",
       "      <td>1531011323000</td>\n",
       "      <td>40.778429</td>\n",
       "      <td>-102.368261</td>\n",
       "      <td>1150.599976</td>\n",
       "      <td>8.50</td>\n",
       "      <td>270.5</td>\n",
       "      <td>3</td>\n",
       "    </tr>\n",
       "  </tbody>\n",
       "</table>\n",
       "<p>14003 rows × 7 columns</p>\n",
       "</div>"
      ],
      "text/plain": [
       "             gpsTime        lat         lon     altitude  speed  bearing  \\\n",
       "0      1530997255000  40.778407 -102.368273  1156.800049   1.25     67.2   \n",
       "1      1530997256000  40.778415 -102.368261  1156.400024   1.25     54.4   \n",
       "2      1530997257000  40.778426 -102.368251  1156.599976   1.25     41.2   \n",
       "3      1530997258000  40.778437 -102.368243  1156.099976   1.25     31.2   \n",
       "4      1530997259000  40.778449 -102.368239  1155.800049   1.25     22.8   \n",
       "...              ...        ...         ...          ...    ...      ...   \n",
       "13998  1531011253000  40.778512 -102.365108  1153.199951   2.25    260.6   \n",
       "13999  1531011254000  40.778508 -102.365137  1153.000000   2.25    258.1   \n",
       "14000  1531011255000  40.778502 -102.365165  1153.000000   2.25    253.8   \n",
       "14001  1531011322000  40.778430 -102.368168  1150.199951   8.50    269.8   \n",
       "14002  1531011323000  40.778429 -102.368261  1150.599976   8.50    270.5   \n",
       "\n",
       "       accuracy  \n",
       "0             3  \n",
       "1             3  \n",
       "2             3  \n",
       "3             3  \n",
       "4             3  \n",
       "...         ...  \n",
       "13998         3  \n",
       "13999         3  \n",
       "14000         3  \n",
       "14001         3  \n",
       "14002         3  \n",
       "\n",
       "[14003 rows x 7 columns]"
      ]
     },
     "execution_count": 56,
     "metadata": {},
     "output_type": "execute_result"
    }
   ],
   "source": [
    "df7130"
   ]
  },
  {
   "cell_type": "code",
   "execution_count": 57,
   "metadata": {},
   "outputs": [],
   "source": [
    "newdf = round((df7130.gpsTime - min(df7130.gpsTime))/(1000*3600), 4)"
   ]
  },
  {
   "cell_type": "code",
   "execution_count": 58,
   "metadata": {},
   "outputs": [
    {
     "data": {
      "image/png": "[encoded data removed]",
      "text/plain": [
       "<Figure size 432x288 with 1 Axes>"
      ]
     },
     "metadata": {
      "needs_background": "light"
     },
     "output_type": "display_data"
    }
   ],
   "source": [
    "%matplotlib inline\n",
    "fig = plt.figure()\n",
    "plt.style.use('classic')\n",
    "plt.plot(newdf)\n",
    "plt.title(\"Elapsed Time in Case 7130 Log\")\n",
    "plt.xlabel(\"Observation Number\")\n",
    "plt.ylabel(\"Time in Hours\")\n",
    "plt.grid()"
   ]
  },
  {
   "cell_type": "code",
   "execution_count": 59,
   "metadata": {},
   "outputs": [
    {
     "data": {
      "image/png": "[encoded data removed]",
      "text/plain": [
       "<Figure size 432x288 with 1 Axes>"
      ]
     },
     "metadata": {
      "needs_background": "light"
     },
     "output_type": "display_data"
    }
   ],
   "source": [
    "%matplotlib inline\n",
    "fig = plt.figure()\n",
    "plt.style.use('classic')\n",
    "plt.plot(df7130.speed)\n",
    "plt.title(\"Speed in Case 7130 Log\")\n",
    "plt.xlabel(\"Observation Number\")\n",
    "plt.ylabel(\"Speed in Meters per second\")\n",
    "plt.grid()"
   ]
  },
  {
   "cell_type": "code",
   "execution_count": 60,
   "metadata": {},
   "outputs": [
    {
     "data": {
      "image/png": "[encoded data removed]",
      "text/plain": [
       "<Figure size 432x288 with 1 Axes>"
      ]
     },
     "metadata": {
      "needs_background": "light"
     },
     "output_type": "display_data"
    }
   ],
   "source": [
    "# Try some scatterplots \n",
    "\n",
    "%matplotlib inline\n",
    "fig = plt.figure()\n",
    "plt.style.use('classic')\n",
    "#plt.plot(df7130.lon, df7130.lat, '.', color='black')\n",
    "plt.plot(df7130.lon, (69./55.)*df7130.lat, '.', color='black')\n",
    "plt.axis('equal')\n",
    "\n",
    "plt.title(\"7130 Points\")\n",
    "plt.xlabel(\"Longitude\")\n",
    "plt.ylabel(\"Latitude\")\n",
    "plt.grid()"
   ]
  },
  {
   "cell_type": "code",
   "execution_count": 61,
   "metadata": {},
   "outputs": [
    {
     "data": {
      "image/png": "[encoded data removed]",
      "text/plain": [
       "<Figure size 432x288 with 1 Axes>"
      ]
     },
     "metadata": {
      "needs_background": "light"
     },
     "output_type": "display_data"
    }
   ],
   "source": [
    "%matplotlib inline\n",
    "fig = plt.figure()\n",
    "plt.style.use('classic')\n",
    "plt.plot(df290.lon, df290.lat, '.', color='black')\n",
    "plt.title(\"290 Points\")\n",
    "plt.xlabel(\"Longitude\")\n",
    "plt.ylabel(\"Latitude\")\n",
    "plt.axis('equal')\n",
    "plt.grid()"
   ]
  },
  {
   "cell_type": "code",
   "execution_count": 62,
   "metadata": {},
   "outputs": [],
   "source": [
    "# Clearly having a little trouble with our logger. This was also evident\n",
    "# in the time file"
   ]
  },
  {
   "cell_type": "code",
   "execution_count": null,
   "metadata": {},
   "outputs": [],
   "source": []
  },
  {
   "cell_type": "code",
   "execution_count": null,
   "metadata": {},
   "outputs": [],
   "source": []
  },
  {
   "cell_type": "code",
   "execution_count": null,
   "metadata": {},
   "outputs": [],
   "source": []
  }
 ],
 "metadata": {
  "kernelspec": {
   "display_name": "Python 3",
   "language": "python",
   "name": "python3"
  },
  "language_info": {
   "codemirror_mode": {
    "name": "ipython",
    "version": 3
   },
   "file_extension": ".py",
   "mimetype": "text/x-python",
   "name": "python",
   "nbconvert_exporter": "python",
   "pygments_lexer": "ipython3",
   "version": "3.7.4"
  }
 },
 "nbformat": 4,
 "nbformat_minor": 2
}
