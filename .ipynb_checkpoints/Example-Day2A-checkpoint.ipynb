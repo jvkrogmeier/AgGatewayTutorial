{
 "cells": [
  {
   "cell_type": "markdown",
   "metadata": {},
   "source": [
    "# Example 2 (November 2019)\n",
    "## Outline of Topics\n",
    " - Quick review -- NumPy\n",
    " - Pandas\n",
    " - Some real data ..."
   ]
  },
  {
   "cell_type": "markdown",
   "metadata": {},
   "source": [
    "## The NumPy Package"
   ]
  },
  {
   "cell_type": "code",
   "execution_count": 1,
   "metadata": {},
   "outputs": [],
   "source": [
    "# NumPy (Numerical Python): provides an efficient interface to store and compute on \n",
    "# dense data buffers. NumPy arrays are much more efficient than Python's built-in list \n",
    "# data type. Numpy arrays must all be of the same type. If types do not match, NumPy \n",
    "# will upcast if possible. Can explicitely set the type in a numpy array .... \n",
    "# dtype = 'float32' ... etc\n",
    "#\n",
    "# NumPy arrays can be multi-dimensional in contrast to lists.\n",
    "#\n",
    "# Some useful features of NumPy are: np.zeros, np.ones, np.full, np.arrange, np.linspace, \n",
    "# np.random.random, np.random.normal, np.random.randint, np.eye, etc.\n",
    "#\n",
    "# Also Matplotlib for plotting.\n",
    "\n",
    "import numpy as np\n",
    "import sys\n",
    "import matplotlib as mpl\n",
    "import matplotlib.pyplot as plt\n"
   ]
  },
  {
   "cell_type": "markdown",
   "metadata": {},
   "source": [
    "## The Pandas Package"
   ]
  },
  {
   "cell_type": "code",
   "execution_count": 2,
   "metadata": {},
   "outputs": [],
   "source": [
    "# Pandas is built on top of NumPy to create an efficient implementation of\n",
    "# a DataFrame ... which is a multidimensional array with attached row and\n",
    "# column labels. Mimics the way data is handled in R and popular spreadsheets.\n",
    "# Useful or making pivot tables and other summary groupings.\n",
    "#\n",
    "# There is also a Series object worth using."
   ]
  },
  {
   "cell_type": "code",
   "execution_count": 3,
   "metadata": {},
   "outputs": [],
   "source": [
    "import pandas as pd"
   ]
  },
  {
   "cell_type": "code",
   "execution_count": 4,
   "metadata": {},
   "outputs": [],
   "source": [
    "# Read a csv file from local memory. The path given in the command is relative to\n",
    "# the location of the current working directory (i.e., where this version of\n",
    "# Example-Day2.ipynb is running.\n",
    "#\n",
    "# './data/case-290-gps-fs10.csv'\n",
    "#  ^   ^          ^\n",
    "#  |   |          |\n",
    "#  |   subdir     file name\n",
    "#  |\n",
    "#  current working directory\n",
    "\n",
    "df290 = pd.read_csv('./data/case-290-gps-fs10.csv')"
   ]
  },
  {
   "cell_type": "code",
   "execution_count": 5,
   "metadata": {},
   "outputs": [
    {
     "name": "stdout",
     "output_type": "stream",
     "text": [
      "<class 'pandas.core.frame.DataFrame'>\n"
     ]
    }
   ],
   "source": [
    "print(type(df290))"
   ]
  },
  {
   "cell_type": "code",
   "execution_count": 6,
   "metadata": {},
   "outputs": [
    {
     "data": {
      "text/html": [
       "<div>\n",
       "<style scoped>\n",
       "    .dataframe tbody tr th:only-of-type {\n",
       "        vertical-align: middle;\n",
       "    }\n",
       "\n",
       "    .dataframe tbody tr th {\n",
       "        vertical-align: top;\n",
       "    }\n",
       "\n",
       "    .dataframe thead th {\n",
       "        text-align: right;\n",
       "    }\n",
       "</style>\n",
       "<table border=\"1\" class=\"dataframe\">\n",
       "  <thead>\n",
       "    <tr style=\"text-align: right;\">\n",
       "      <th></th>\n",
       "      <th>gpsTime</th>\n",
       "      <th>lat</th>\n",
       "      <th>lon</th>\n",
       "      <th>altitude</th>\n",
       "      <th>speed</th>\n",
       "      <th>bearing</th>\n",
       "      <th>accuracy</th>\n",
       "    </tr>\n",
       "  </thead>\n",
       "  <tbody>\n",
       "    <tr>\n",
       "      <th>0</th>\n",
       "      <td>1530997640000</td>\n",
       "      <td>40.778404</td>\n",
       "      <td>-102.368275</td>\n",
       "      <td>1152.900024</td>\n",
       "      <td>3.0</td>\n",
       "      <td>77.5</td>\n",
       "      <td>3</td>\n",
       "    </tr>\n",
       "    <tr>\n",
       "      <th>1</th>\n",
       "      <td>1530997641000</td>\n",
       "      <td>40.778415</td>\n",
       "      <td>-102.368247</td>\n",
       "      <td>1153.199951</td>\n",
       "      <td>3.0</td>\n",
       "      <td>65.9</td>\n",
       "      <td>3</td>\n",
       "    </tr>\n",
       "    <tr>\n",
       "      <th>2</th>\n",
       "      <td>1530997642000</td>\n",
       "      <td>40.778433</td>\n",
       "      <td>-102.368226</td>\n",
       "      <td>1152.699951</td>\n",
       "      <td>3.0</td>\n",
       "      <td>49.9</td>\n",
       "      <td>3</td>\n",
       "    </tr>\n",
       "    <tr>\n",
       "      <th>3</th>\n",
       "      <td>1530997643000</td>\n",
       "      <td>40.778456</td>\n",
       "      <td>-102.368210</td>\n",
       "      <td>1152.599976</td>\n",
       "      <td>3.0</td>\n",
       "      <td>36.1</td>\n",
       "      <td>3</td>\n",
       "    </tr>\n",
       "    <tr>\n",
       "      <th>4</th>\n",
       "      <td>1530997644000</td>\n",
       "      <td>40.778481</td>\n",
       "      <td>-102.368201</td>\n",
       "      <td>1152.099976</td>\n",
       "      <td>3.0</td>\n",
       "      <td>24.8</td>\n",
       "      <td>3</td>\n",
       "    </tr>\n",
       "  </tbody>\n",
       "</table>\n",
       "</div>"
      ],
      "text/plain": [
       "         gpsTime        lat         lon     altitude  speed  bearing  accuracy\n",
       "0  1530997640000  40.778404 -102.368275  1152.900024    3.0     77.5         3\n",
       "1  1530997641000  40.778415 -102.368247  1153.199951    3.0     65.9         3\n",
       "2  1530997642000  40.778433 -102.368226  1152.699951    3.0     49.9         3\n",
       "3  1530997643000  40.778456 -102.368210  1152.599976    3.0     36.1         3\n",
       "4  1530997644000  40.778481 -102.368201  1152.099976    3.0     24.8         3"
      ]
     },
     "execution_count": 6,
     "metadata": {},
     "output_type": "execute_result"
    }
   ],
   "source": [
    "# Several ways to peak at the data we've just read ...\n",
    "\n",
    "df290.head()"
   ]
  },
  {
   "cell_type": "code",
   "execution_count": 7,
   "metadata": {},
   "outputs": [
    {
     "data": {
      "text/html": [
       "<div>\n",
       "<style scoped>\n",
       "    .dataframe tbody tr th:only-of-type {\n",
       "        vertical-align: middle;\n",
       "    }\n",
       "\n",
       "    .dataframe tbody tr th {\n",
       "        vertical-align: top;\n",
       "    }\n",
       "\n",
       "    .dataframe thead th {\n",
       "        text-align: right;\n",
       "    }\n",
       "</style>\n",
       "<table border=\"1\" class=\"dataframe\">\n",
       "  <thead>\n",
       "    <tr style=\"text-align: right;\">\n",
       "      <th></th>\n",
       "      <th>gpsTime</th>\n",
       "      <th>lat</th>\n",
       "      <th>lon</th>\n",
       "      <th>altitude</th>\n",
       "      <th>speed</th>\n",
       "      <th>bearing</th>\n",
       "      <th>accuracy</th>\n",
       "    </tr>\n",
       "  </thead>\n",
       "  <tbody>\n",
       "    <tr>\n",
       "      <th>0</th>\n",
       "      <td>1530997640000</td>\n",
       "      <td>40.778404</td>\n",
       "      <td>-102.368275</td>\n",
       "      <td>1152.900024</td>\n",
       "      <td>3.00</td>\n",
       "      <td>77.5</td>\n",
       "      <td>3</td>\n",
       "    </tr>\n",
       "    <tr>\n",
       "      <th>1</th>\n",
       "      <td>1530997641000</td>\n",
       "      <td>40.778415</td>\n",
       "      <td>-102.368247</td>\n",
       "      <td>1153.199951</td>\n",
       "      <td>3.00</td>\n",
       "      <td>65.9</td>\n",
       "      <td>3</td>\n",
       "    </tr>\n",
       "    <tr>\n",
       "      <th>2</th>\n",
       "      <td>1530997642000</td>\n",
       "      <td>40.778433</td>\n",
       "      <td>-102.368226</td>\n",
       "      <td>1152.699951</td>\n",
       "      <td>3.00</td>\n",
       "      <td>49.9</td>\n",
       "      <td>3</td>\n",
       "    </tr>\n",
       "    <tr>\n",
       "      <th>3</th>\n",
       "      <td>1530997643000</td>\n",
       "      <td>40.778456</td>\n",
       "      <td>-102.368210</td>\n",
       "      <td>1152.599976</td>\n",
       "      <td>3.00</td>\n",
       "      <td>36.1</td>\n",
       "      <td>3</td>\n",
       "    </tr>\n",
       "    <tr>\n",
       "      <th>4</th>\n",
       "      <td>1530997644000</td>\n",
       "      <td>40.778481</td>\n",
       "      <td>-102.368201</td>\n",
       "      <td>1152.099976</td>\n",
       "      <td>3.00</td>\n",
       "      <td>24.8</td>\n",
       "      <td>3</td>\n",
       "    </tr>\n",
       "    <tr>\n",
       "      <th>5</th>\n",
       "      <td>1530997645000</td>\n",
       "      <td>40.778507</td>\n",
       "      <td>-102.368197</td>\n",
       "      <td>1152.699951</td>\n",
       "      <td>2.75</td>\n",
       "      <td>16.1</td>\n",
       "      <td>3</td>\n",
       "    </tr>\n",
       "    <tr>\n",
       "      <th>6</th>\n",
       "      <td>1530997646000</td>\n",
       "      <td>40.778533</td>\n",
       "      <td>-102.368197</td>\n",
       "      <td>1152.300049</td>\n",
       "      <td>2.75</td>\n",
       "      <td>10.2</td>\n",
       "      <td>3</td>\n",
       "    </tr>\n",
       "    <tr>\n",
       "      <th>7</th>\n",
       "      <td>1530997647000</td>\n",
       "      <td>40.778558</td>\n",
       "      <td>-102.368199</td>\n",
       "      <td>1152.800049</td>\n",
       "      <td>2.75</td>\n",
       "      <td>6.7</td>\n",
       "      <td>3</td>\n",
       "    </tr>\n",
       "    <tr>\n",
       "      <th>8</th>\n",
       "      <td>1530997648000</td>\n",
       "      <td>40.778580</td>\n",
       "      <td>-102.368202</td>\n",
       "      <td>1152.699951</td>\n",
       "      <td>2.75</td>\n",
       "      <td>5.8</td>\n",
       "      <td>3</td>\n",
       "    </tr>\n",
       "    <tr>\n",
       "      <th>9</th>\n",
       "      <td>1530997649000</td>\n",
       "      <td>40.778604</td>\n",
       "      <td>-102.368203</td>\n",
       "      <td>1153.500000</td>\n",
       "      <td>2.75</td>\n",
       "      <td>6.3</td>\n",
       "      <td>3</td>\n",
       "    </tr>\n",
       "  </tbody>\n",
       "</table>\n",
       "</div>"
      ],
      "text/plain": [
       "         gpsTime        lat         lon     altitude  speed  bearing  accuracy\n",
       "0  1530997640000  40.778404 -102.368275  1152.900024   3.00     77.5         3\n",
       "1  1530997641000  40.778415 -102.368247  1153.199951   3.00     65.9         3\n",
       "2  1530997642000  40.778433 -102.368226  1152.699951   3.00     49.9         3\n",
       "3  1530997643000  40.778456 -102.368210  1152.599976   3.00     36.1         3\n",
       "4  1530997644000  40.778481 -102.368201  1152.099976   3.00     24.8         3\n",
       "5  1530997645000  40.778507 -102.368197  1152.699951   2.75     16.1         3\n",
       "6  1530997646000  40.778533 -102.368197  1152.300049   2.75     10.2         3\n",
       "7  1530997647000  40.778558 -102.368199  1152.800049   2.75      6.7         3\n",
       "8  1530997648000  40.778580 -102.368202  1152.699951   2.75      5.8         3\n",
       "9  1530997649000  40.778604 -102.368203  1153.500000   2.75      6.3         3"
      ]
     },
     "execution_count": 7,
     "metadata": {},
     "output_type": "execute_result"
    }
   ],
   "source": [
    "# Change the default number of rows ...\n",
    "\n",
    "df290.head(10)"
   ]
  },
  {
   "cell_type": "code",
   "execution_count": 8,
   "metadata": {},
   "outputs": [
    {
     "data": {
      "text/html": [
       "<div>\n",
       "<style scoped>\n",
       "    .dataframe tbody tr th:only-of-type {\n",
       "        vertical-align: middle;\n",
       "    }\n",
       "\n",
       "    .dataframe tbody tr th {\n",
       "        vertical-align: top;\n",
       "    }\n",
       "\n",
       "    .dataframe thead th {\n",
       "        text-align: right;\n",
       "    }\n",
       "</style>\n",
       "<table border=\"1\" class=\"dataframe\">\n",
       "  <thead>\n",
       "    <tr style=\"text-align: right;\">\n",
       "      <th></th>\n",
       "      <th>gpsTime</th>\n",
       "      <th>lat</th>\n",
       "      <th>lon</th>\n",
       "      <th>altitude</th>\n",
       "      <th>speed</th>\n",
       "      <th>bearing</th>\n",
       "      <th>accuracy</th>\n",
       "    </tr>\n",
       "  </thead>\n",
       "  <tbody>\n",
       "    <tr>\n",
       "      <th>8227</th>\n",
       "      <td>1531010458000</td>\n",
       "      <td>40.778583</td>\n",
       "      <td>-102.364240</td>\n",
       "      <td>1156.000000</td>\n",
       "      <td>2.5</td>\n",
       "      <td>200.4</td>\n",
       "      <td>3</td>\n",
       "    </tr>\n",
       "    <tr>\n",
       "      <th>8228</th>\n",
       "      <td>1531010459000</td>\n",
       "      <td>40.778564</td>\n",
       "      <td>-102.364252</td>\n",
       "      <td>1156.199951</td>\n",
       "      <td>2.5</td>\n",
       "      <td>204.8</td>\n",
       "      <td>3</td>\n",
       "    </tr>\n",
       "    <tr>\n",
       "      <th>8229</th>\n",
       "      <td>1531010460000</td>\n",
       "      <td>40.778547</td>\n",
       "      <td>-102.364267</td>\n",
       "      <td>1156.099976</td>\n",
       "      <td>2.5</td>\n",
       "      <td>208.9</td>\n",
       "      <td>3</td>\n",
       "    </tr>\n",
       "    <tr>\n",
       "      <th>8230</th>\n",
       "      <td>1531012947000</td>\n",
       "      <td>40.778424</td>\n",
       "      <td>-102.368198</td>\n",
       "      <td>1155.699951</td>\n",
       "      <td>8.0</td>\n",
       "      <td>269.8</td>\n",
       "      <td>3</td>\n",
       "    </tr>\n",
       "    <tr>\n",
       "      <th>8231</th>\n",
       "      <td>1531012948000</td>\n",
       "      <td>40.778424</td>\n",
       "      <td>-102.368297</td>\n",
       "      <td>1156.000000</td>\n",
       "      <td>8.5</td>\n",
       "      <td>269.5</td>\n",
       "      <td>3</td>\n",
       "    </tr>\n",
       "  </tbody>\n",
       "</table>\n",
       "</div>"
      ],
      "text/plain": [
       "            gpsTime        lat         lon     altitude  speed  bearing  \\\n",
       "8227  1531010458000  40.778583 -102.364240  1156.000000    2.5    200.4   \n",
       "8228  1531010459000  40.778564 -102.364252  1156.199951    2.5    204.8   \n",
       "8229  1531010460000  40.778547 -102.364267  1156.099976    2.5    208.9   \n",
       "8230  1531012947000  40.778424 -102.368198  1155.699951    8.0    269.8   \n",
       "8231  1531012948000  40.778424 -102.368297  1156.000000    8.5    269.5   \n",
       "\n",
       "      accuracy  \n",
       "8227         3  \n",
       "8228         3  \n",
       "8229         3  \n",
       "8230         3  \n",
       "8231         3  "
      ]
     },
     "execution_count": 8,
     "metadata": {},
     "output_type": "execute_result"
    }
   ],
   "source": [
    "# What if I want to look at the end ... ?\n",
    "\n",
    "df290.tail()"
   ]
  },
  {
   "cell_type": "code",
   "execution_count": 9,
   "metadata": {},
   "outputs": [
    {
     "data": {
      "text/html": [
       "<div>\n",
       "<style scoped>\n",
       "    .dataframe tbody tr th:only-of-type {\n",
       "        vertical-align: middle;\n",
       "    }\n",
       "\n",
       "    .dataframe tbody tr th {\n",
       "        vertical-align: top;\n",
       "    }\n",
       "\n",
       "    .dataframe thead th {\n",
       "        text-align: right;\n",
       "    }\n",
       "</style>\n",
       "<table border=\"1\" class=\"dataframe\">\n",
       "  <thead>\n",
       "    <tr style=\"text-align: right;\">\n",
       "      <th></th>\n",
       "      <th>gpsTime</th>\n",
       "      <th>lat</th>\n",
       "      <th>lon</th>\n",
       "      <th>altitude</th>\n",
       "      <th>speed</th>\n",
       "      <th>bearing</th>\n",
       "      <th>accuracy</th>\n",
       "    </tr>\n",
       "  </thead>\n",
       "  <tbody>\n",
       "    <tr>\n",
       "      <th>0</th>\n",
       "      <td>1530997640000</td>\n",
       "      <td>40.778404</td>\n",
       "      <td>-102.368275</td>\n",
       "      <td>1152.900024</td>\n",
       "      <td>3.0</td>\n",
       "      <td>77.5</td>\n",
       "      <td>3</td>\n",
       "    </tr>\n",
       "    <tr>\n",
       "      <th>1</th>\n",
       "      <td>1530997641000</td>\n",
       "      <td>40.778415</td>\n",
       "      <td>-102.368247</td>\n",
       "      <td>1153.199951</td>\n",
       "      <td>3.0</td>\n",
       "      <td>65.9</td>\n",
       "      <td>3</td>\n",
       "    </tr>\n",
       "    <tr>\n",
       "      <th>2</th>\n",
       "      <td>1530997642000</td>\n",
       "      <td>40.778433</td>\n",
       "      <td>-102.368226</td>\n",
       "      <td>1152.699951</td>\n",
       "      <td>3.0</td>\n",
       "      <td>49.9</td>\n",
       "      <td>3</td>\n",
       "    </tr>\n",
       "    <tr>\n",
       "      <th>3</th>\n",
       "      <td>1530997643000</td>\n",
       "      <td>40.778456</td>\n",
       "      <td>-102.368210</td>\n",
       "      <td>1152.599976</td>\n",
       "      <td>3.0</td>\n",
       "      <td>36.1</td>\n",
       "      <td>3</td>\n",
       "    </tr>\n",
       "    <tr>\n",
       "      <th>4</th>\n",
       "      <td>1530997644000</td>\n",
       "      <td>40.778481</td>\n",
       "      <td>-102.368201</td>\n",
       "      <td>1152.099976</td>\n",
       "      <td>3.0</td>\n",
       "      <td>24.8</td>\n",
       "      <td>3</td>\n",
       "    </tr>\n",
       "    <tr>\n",
       "      <th>...</th>\n",
       "      <td>...</td>\n",
       "      <td>...</td>\n",
       "      <td>...</td>\n",
       "      <td>...</td>\n",
       "      <td>...</td>\n",
       "      <td>...</td>\n",
       "      <td>...</td>\n",
       "    </tr>\n",
       "    <tr>\n",
       "      <th>8227</th>\n",
       "      <td>1531010458000</td>\n",
       "      <td>40.778583</td>\n",
       "      <td>-102.364240</td>\n",
       "      <td>1156.000000</td>\n",
       "      <td>2.5</td>\n",
       "      <td>200.4</td>\n",
       "      <td>3</td>\n",
       "    </tr>\n",
       "    <tr>\n",
       "      <th>8228</th>\n",
       "      <td>1531010459000</td>\n",
       "      <td>40.778564</td>\n",
       "      <td>-102.364252</td>\n",
       "      <td>1156.199951</td>\n",
       "      <td>2.5</td>\n",
       "      <td>204.8</td>\n",
       "      <td>3</td>\n",
       "    </tr>\n",
       "    <tr>\n",
       "      <th>8229</th>\n",
       "      <td>1531010460000</td>\n",
       "      <td>40.778547</td>\n",
       "      <td>-102.364267</td>\n",
       "      <td>1156.099976</td>\n",
       "      <td>2.5</td>\n",
       "      <td>208.9</td>\n",
       "      <td>3</td>\n",
       "    </tr>\n",
       "    <tr>\n",
       "      <th>8230</th>\n",
       "      <td>1531012947000</td>\n",
       "      <td>40.778424</td>\n",
       "      <td>-102.368198</td>\n",
       "      <td>1155.699951</td>\n",
       "      <td>8.0</td>\n",
       "      <td>269.8</td>\n",
       "      <td>3</td>\n",
       "    </tr>\n",
       "    <tr>\n",
       "      <th>8231</th>\n",
       "      <td>1531012948000</td>\n",
       "      <td>40.778424</td>\n",
       "      <td>-102.368297</td>\n",
       "      <td>1156.000000</td>\n",
       "      <td>8.5</td>\n",
       "      <td>269.5</td>\n",
       "      <td>3</td>\n",
       "    </tr>\n",
       "  </tbody>\n",
       "</table>\n",
       "<p>8232 rows × 7 columns</p>\n",
       "</div>"
      ],
      "text/plain": [
       "            gpsTime        lat         lon     altitude  speed  bearing  \\\n",
       "0     1530997640000  40.778404 -102.368275  1152.900024    3.0     77.5   \n",
       "1     1530997641000  40.778415 -102.368247  1153.199951    3.0     65.9   \n",
       "2     1530997642000  40.778433 -102.368226  1152.699951    3.0     49.9   \n",
       "3     1530997643000  40.778456 -102.368210  1152.599976    3.0     36.1   \n",
       "4     1530997644000  40.778481 -102.368201  1152.099976    3.0     24.8   \n",
       "...             ...        ...         ...          ...    ...      ...   \n",
       "8227  1531010458000  40.778583 -102.364240  1156.000000    2.5    200.4   \n",
       "8228  1531010459000  40.778564 -102.364252  1156.199951    2.5    204.8   \n",
       "8229  1531010460000  40.778547 -102.364267  1156.099976    2.5    208.9   \n",
       "8230  1531012947000  40.778424 -102.368198  1155.699951    8.0    269.8   \n",
       "8231  1531012948000  40.778424 -102.368297  1156.000000    8.5    269.5   \n",
       "\n",
       "      accuracy  \n",
       "0            3  \n",
       "1            3  \n",
       "2            3  \n",
       "3            3  \n",
       "4            3  \n",
       "...        ...  \n",
       "8227         3  \n",
       "8228         3  \n",
       "8229         3  \n",
       "8230         3  \n",
       "8231         3  \n",
       "\n",
       "[8232 rows x 7 columns]"
      ]
     },
     "execution_count": 9,
     "metadata": {},
     "output_type": "execute_result"
    }
   ],
   "source": [
    "# In the version of panda we are here running, we can see both head and tail\n",
    "# by simply typing the dataframe name ...\n",
    "\n",
    "df290"
   ]
  },
  {
   "cell_type": "code",
   "execution_count": 10,
   "metadata": {},
   "outputs": [
    {
     "data": {
      "text/plain": [
       "0       1530997640000\n",
       "1       1530997641000\n",
       "2       1530997642000\n",
       "3       1530997643000\n",
       "4       1530997644000\n",
       "            ...      \n",
       "8227    1531010458000\n",
       "8228    1531010459000\n",
       "8229    1531010460000\n",
       "8230    1531012947000\n",
       "8231    1531012948000\n",
       "Name: gpsTime, Length: 8232, dtype: int64"
      ]
     },
     "execution_count": 10,
     "metadata": {},
     "output_type": "execute_result"
    }
   ],
   "source": [
    "# Refer to any particular column by reference to its column label.\n",
    "# For example ...\n",
    "\n",
    "df290.gpsTime"
   ]
  },
  {
   "cell_type": "code",
   "execution_count": 11,
   "metadata": {},
   "outputs": [
    {
     "data": {
      "text/plain": [
       "array([[ 1.53099764e+12,  4.07784043e+01, -1.02368275e+02, ...,\n",
       "         3.00000000e+00,  7.75000000e+01,  3.00000000e+00],\n",
       "       [ 1.53099764e+12,  4.07784146e+01, -1.02368247e+02, ...,\n",
       "         3.00000000e+00,  6.59000000e+01,  3.00000000e+00],\n",
       "       [ 1.53099764e+12,  4.07784328e+01, -1.02368226e+02, ...,\n",
       "         3.00000000e+00,  4.99000000e+01,  3.00000000e+00],\n",
       "       ...,\n",
       "       [ 1.53101046e+12,  4.07785467e+01, -1.02364267e+02, ...,\n",
       "         2.50000000e+00,  2.08900000e+02,  3.00000000e+00],\n",
       "       [ 1.53101295e+12,  4.07784238e+01, -1.02368198e+02, ...,\n",
       "         8.00000000e+00,  2.69800000e+02,  3.00000000e+00],\n",
       "       [ 1.53101295e+12,  4.07784236e+01, -1.02368297e+02, ...,\n",
       "         8.50000000e+00,  2.69500000e+02,  3.00000000e+00]])"
      ]
     },
     "execution_count": 11,
     "metadata": {},
     "output_type": "execute_result"
    }
   ],
   "source": [
    "# The \"values\" attribute creates a NumPy array from the dataframe ...\n",
    "\n",
    "df290.values"
   ]
  },
  {
   "cell_type": "code",
   "execution_count": 12,
   "metadata": {},
   "outputs": [
    {
     "data": {
      "text/plain": [
       "numpy.ndarray"
      ]
     },
     "execution_count": 12,
     "metadata": {},
     "output_type": "execute_result"
    }
   ],
   "source": [
    "# Check its type ...\n",
    "\n",
    "type(df290.values)"
   ]
  },
  {
   "cell_type": "code",
   "execution_count": 13,
   "metadata": {},
   "outputs": [
    {
     "data": {
      "text/plain": [
       "(8232, 7)"
      ]
     },
     "execution_count": 13,
     "metadata": {},
     "output_type": "execute_result"
    }
   ],
   "source": [
    "df290.values.shape"
   ]
  },
  {
   "cell_type": "code",
   "execution_count": 14,
   "metadata": {},
   "outputs": [
    {
     "data": {
      "text/plain": [
       "1153.19995117188"
      ]
     },
     "execution_count": 14,
     "metadata": {},
     "output_type": "execute_result"
    }
   ],
   "source": [
    "df290.values[1,3]"
   ]
  },
  {
   "cell_type": "code",
   "execution_count": 15,
   "metadata": {},
   "outputs": [
    {
     "data": {
      "text/plain": [
       "gpsTime     1.530998e+12\n",
       "lat         4.077843e+01\n",
       "lon        -1.023682e+02\n",
       "altitude    1.152700e+03\n",
       "speed       3.000000e+00\n",
       "bearing     4.990000e+01\n",
       "accuracy    3.000000e+00\n",
       "Name: 2, dtype: float64"
      ]
     },
     "execution_count": 15,
     "metadata": {},
     "output_type": "execute_result"
    }
   ],
   "source": [
    "# Here is a way to refer to a single row of the dataframe ...\n",
    "\n",
    "df290.loc[2]"
   ]
  },
  {
   "cell_type": "code",
   "execution_count": null,
   "metadata": {},
   "outputs": [],
   "source": [
    "type(df290.loc[2])"
   ]
  },
  {
   "cell_type": "code",
   "execution_count": null,
   "metadata": {},
   "outputs": [],
   "source": [
    "# Here is another way ...\n",
    "\n",
    "df290.values[2]"
   ]
  },
  {
   "cell_type": "code",
   "execution_count": null,
   "metadata": {},
   "outputs": [],
   "source": [
    "type(df290.values[2])"
   ]
  },
  {
   "cell_type": "markdown",
   "metadata": {},
   "source": [
    "## Now Look Harder at the Data"
   ]
  },
  {
   "cell_type": "markdown",
   "metadata": {},
   "source": [
    "* GPS Time"
   ]
  },
  {
   "cell_type": "code",
   "execution_count": null,
   "metadata": {},
   "outputs": [],
   "source": [
    "# What sort of data are they ... ?\n",
    "\n",
    "type(df290.gpsTime[0])"
   ]
  },
  {
   "cell_type": "code",
   "execution_count": null,
   "metadata": {},
   "outputs": [],
   "source": [
    "# But they are big integers ...\n",
    "\n",
    "df290.gpsTime[0]"
   ]
  },
  {
   "cell_type": "code",
   "execution_count": null,
   "metadata": {},
   "outputs": [],
   "source": [
    "# Let's look at a few of them again ...\n",
    "\n",
    "df290.gpsTime"
   ]
  },
  {
   "cell_type": "markdown",
   "metadata": {},
   "source": [
    "* Note that the GPS time stamps seem to increase by 1000 at each step.\n",
    "* Since most GPS receivers are reporting once per second --> 1000 corresponds to 1 sec.\n",
    "* That is, the smallest unit in the gpsTime value is a millisecond.\n",
    "* Thus, each tick of the gpsTime \"clock\" would then represent\n",
    "\n",
    "        1/(1000 * 3600 * 24 * 365) years."
   ]
  },
  {
   "cell_type": "code",
   "execution_count": null,
   "metadata": {},
   "outputs": [],
   "source": [
    "# If so,the clock above started at df.gpsTime[0]/(1000*3600*24*364) years ago:\n",
    "\n",
    "df290.gpsTime[0]/(1000*3600*24*365)"
   ]
  },
  {
   "cell_type": "markdown",
   "metadata": {},
   "source": [
    "## In the beginning the world was ....\n",
    "* and the beginning was January 1, 1970 at 12 am somewhere\n",
    "* The wheat harvest data was taken in July of 2018 ... about 48.5 years later!"
   ]
  },
  {
   "cell_type": "code",
   "execution_count": null,
   "metadata": {},
   "outputs": [],
   "source": [
    "# The total time that a clock time representing a 64 bit integer could \"hold\" before\n",
    "# wrapping would be (in years):\n",
    "\n",
    "(2 ** 32)/(3600*24*365)\n",
    "\n",
    "# Which is our next Y2K worry. Perhaps there are more important things to ponder\n",
    "# today?"
   ]
  },
  {
   "cell_type": "code",
   "execution_count": null,
   "metadata": {},
   "outputs": [],
   "source": [
    "# The elapsed time (in hours) of the grain cart log file is:\n",
    "\n",
    "round((max(df290.gpsTime) - min(df290.gpsTime))/(1000*3600), 2)"
   ]
  },
  {
   "cell_type": "code",
   "execution_count": null,
   "metadata": {},
   "outputs": [],
   "source": [
    "# Let's take a look at how gpsTime evolves in the cart log file as\n",
    "# a check ...\n",
    "\n",
    "%matplotlib inline\n",
    "fig = plt.figure()\n",
    "plt.style.use('classic')\n",
    "plt.plot(df290.gpsTime)\n",
    "plt.grid()"
   ]
  },
  {
   "cell_type": "markdown",
   "metadata": {},
   "source": [
    "Notes:\n",
    "\n",
    "* What's up with the units on the axes? Nearly unreadable.\n",
    "* Something is wrong with the log file since time is jumping."
   ]
  },
  {
   "cell_type": "code",
   "execution_count": null,
   "metadata": {},
   "outputs": [],
   "source": [
    "# How to fix the odd units and make the plot axis make more sense ...\n",
    "\n",
    "%matplotlib inline\n",
    "fig = plt.figure()\n",
    "plt.style.use('classic')\n",
    "plt.plot(round((df290.gpsTime - min(df290.gpsTime))/(1000*3600), 4))\n",
    "plt.title(\"Elapsed Time in Case 290 Log\")\n",
    "plt.xlabel(\"Observation Number\")\n",
    "plt.ylabel(\"Time in Hours\")\n",
    "plt.grid()"
   ]
  },
  {
   "cell_type": "markdown",
   "metadata": {},
   "source": [
    "Notes:\n",
    "\n",
    "* Certainly looks better and axes are readable.\n",
    "* Subtracting the minimum timestamp from every entry starts the elapsed time at zero\n",
    "* Round was used to strip off superfluous digits. \n",
    "    - \"4\" was used since 1/3600 of an hour is the basic time increment\n",
    "    - Try using 3, 2, 1 to see what happens.\n",
    "* From the above plot can see that:\n",
    "    - the logger must have been turned off at various times because of the jumps.\n",
    "    - Might be interesting to see where the tractor was when these events occurred.\n"
   ]
  },
  {
   "cell_type": "code",
   "execution_count": null,
   "metadata": {},
   "outputs": [],
   "source": [
    "# Look at the speed column\n",
    "\n",
    "df290.speed"
   ]
  },
  {
   "cell_type": "markdown",
   "metadata": {},
   "source": [
    "What do we think the units are?\n",
    "\n",
    "* Miles per hour? Feet per second? Meters per second? Parsecs per day?\n",
    "* Okay ... it's meters per second 2.5 m/s is about 5.5 miles/hour"
   ]
  },
  {
   "cell_type": "markdown",
   "metadata": {},
   "source": [
    "\"You've never heard of the Millennium Falcon?\n",
    "... It's the ship that made the Kessel Run in less than twelve parsecs.\"\n",
    "\n",
    "![falcon](figures/Falcon.jpeg)"
   ]
  },
  {
   "cell_type": "markdown",
   "metadata": {},
   "source": [
    "(By the way a parsec is the distance at which the earth's orbit subtends an angle of 1 second of arc)"
   ]
  },
  {
   "cell_type": "code",
   "execution_count": null,
   "metadata": {},
   "outputs": [],
   "source": [
    "# What do the speeds look like over time?\n",
    "\n",
    "%matplotlib inline\n",
    "fig = plt.figure()\n",
    "plt.style.use('classic')\n",
    "plt.plot(df290.speed)\n",
    "plt.title(\"Speed in Case 290 Log\")\n",
    "plt.xlabel(\"Observation Number\")\n",
    "plt.ylabel(\"Speed in Meters per second\")\n",
    "plt.grid()"
   ]
  },
  {
   "cell_type": "code",
   "execution_count": null,
   "metadata": {},
   "outputs": [],
   "source": [
    "# What are the values in our data set?\n",
    "\n",
    "%matplotlib inline\n",
    "fig = plt.figure()\n",
    "plt.style.use('classic')\n",
    "plt.hist(df290.speed, bins=30)\n",
    "plt.title(\"Histogram of Speeds in Case 290 Log\")\n",
    "plt.xlabel(\"Speed in m/s\")\n",
    "plt.ylabel(\"Number of observations\")\n",
    "plt.grid()\n"
   ]
  },
  {
   "cell_type": "markdown",
   "metadata": {},
   "source": [
    "## How about some combine tracks?"
   ]
  },
  {
   "cell_type": "code",
   "execution_count": null,
   "metadata": {},
   "outputs": [],
   "source": [
    "df7130 = pd.read_csv('./data/case-7130-gps-fs10.csv')"
   ]
  },
  {
   "cell_type": "code",
   "execution_count": null,
   "metadata": {},
   "outputs": [],
   "source": [
    "df7130"
   ]
  },
  {
   "cell_type": "markdown",
   "metadata": {},
   "source": [
    "* Hmmm. There are many more rows in this log."
   ]
  },
  {
   "cell_type": "code",
   "execution_count": null,
   "metadata": {},
   "outputs": [],
   "source": [
    "%matplotlib inline\n",
    "fig = plt.figure()\n",
    "plt.style.use('classic')\n",
    "plt.plot(round((df7130.gpsTime - min(df7130.gpsTime))/(1000*3600), 4))\n",
    "plt.title(\"Elapsed Time in Case 7130 Log\")\n",
    "plt.xlabel(\"Observation Number\")\n",
    "plt.ylabel(\"Time in Hours\")\n",
    "plt.grid()"
   ]
  },
  {
   "cell_type": "markdown",
   "metadata": {},
   "source": [
    "Notes:\n",
    "\n",
    "* Elapsed times of the two logs are about the same (machines are working the same field)\n",
    "* Smooth linear increase is what one would expect for time flow."
   ]
  },
  {
   "cell_type": "code",
   "execution_count": null,
   "metadata": {},
   "outputs": [],
   "source": [
    "# Speed time series ...\n",
    "\n",
    "%matplotlib inline\n",
    "fig = plt.figure()\n",
    "plt.style.use('classic')\n",
    "plt.plot(df7130.speed)\n",
    "plt.title(\"Speed in Case 7130 Log\")\n",
    "plt.xlabel(\"Observation Number\")\n",
    "plt.ylabel(\"Speed in Meters per second\")\n",
    "plt.grid()"
   ]
  },
  {
   "cell_type": "code",
   "execution_count": null,
   "metadata": {},
   "outputs": [],
   "source": [
    "# Speed histogram\n",
    "\n",
    "%matplotlib inline\n",
    "fig = plt.figure()\n",
    "plt.style.use('classic')\n",
    "plt.hist(df7130.speed, bins=30)\n",
    "plt.title(\"Histogram of Speeds in Case 7130 Log\")\n",
    "plt.xlabel(\"Speed in m/s\")\n",
    "plt.ylabel(\"Number of observations\")\n",
    "plt.grid()"
   ]
  },
  {
   "cell_type": "code",
   "execution_count": null,
   "metadata": {},
   "outputs": [],
   "source": [
    "# How to show two plots side by side so that we can easily compare them ... ?\n",
    "\n",
    "%matplotlib inline\n",
    "fig = plt.figure()\n",
    "plt.style.use('classic')\n",
    "fig.subplots_adjust(wspace=1.0)\n",
    "\n",
    "plt.subplot(1, 2, 1)\n",
    "plt.hist(df7130.speed, bins=30)\n",
    "plt.title(\"7130 Speeds\")\n",
    "plt.xlabel(\"Speed in m/s\")\n",
    "plt.ylabel(\"Number of observations\")\n",
    "plt.grid()\n",
    "\n",
    "plt.subplot(1, 2, 2)\n",
    "plt.hist(df290.speed, bins=30)\n",
    "plt.title(\"290 Speeds\")\n",
    "plt.xlabel(\"Speed in m/s\")\n",
    "plt.ylabel(\"Number of observations\")\n",
    "plt.grid()\n",
    "\n"
   ]
  },
  {
   "cell_type": "markdown",
   "metadata": {},
   "source": [
    "Notes:\n",
    "\n",
    "* Grain carts operate over a larger speed range than do combines (check!)\n",
    "* Grain carts look to spend more time sitting (check!)\n",
    "* Average speed of grain carts is higher than combines working in the field (yeah!)"
   ]
  },
  {
   "cell_type": "code",
   "execution_count": null,
   "metadata": {},
   "outputs": [],
   "source": [
    "# Try some scatterplots\n",
    "\n",
    "%matplotlib inline\n",
    "fig = plt.figure()\n",
    "plt.style.use('classic')\n",
    "plt.plot(df7130.lon, df7130.lat, '.', color='black')\n",
    "plt.title(\"7130 Points\")\n",
    "plt.xlabel(\"Longitude\")\n",
    "plt.ylabel(\"Latitude\")\n",
    "plt.axis(\"equal\")\n",
    "plt.grid()"
   ]
  },
  {
   "cell_type": "code",
   "execution_count": null,
   "metadata": {},
   "outputs": [],
   "source": [
    "%matplotlib inline\n",
    "fig = plt.figure()\n",
    "plt.style.use('classic')\n",
    "plt.plot(df290.lon, df290.lat, '.', color='black')\n",
    "plt.title(\"290 Points\")\n",
    "plt.xlabel(\"Longitude\")\n",
    "plt.ylabel(\"Latitude\")\n",
    "plt.axis(\"equal\")\n",
    "plt.grid()"
   ]
  },
  {
   "cell_type": "code",
   "execution_count": null,
   "metadata": {},
   "outputs": [],
   "source": [
    "# Clearly having a little trouble with our logger. This was also evident\n",
    "# in the time file ..."
   ]
  },
  {
   "cell_type": "code",
   "execution_count": null,
   "metadata": {},
   "outputs": [],
   "source": [
    "# A \"poor man's\" map projection: A degree of lattitude is about 69 miles \n",
    "# everywhere on the earth. At 40 degrees north lattitude, a degree of longitude\n",
    "# is about 53 miles. Therefore, at 40 degrees north lattitude, the ratio is\n",
    "# about\n",
    "\n",
    "# Lat/Lon = 69/53 .... scale\n",
    "\n",
    "%matplotlib inline\n",
    "fig = plt.figure()\n",
    "plt.style.use('classic')\n",
    "plt.plot(df290.lon, (53/69)*df290.lat, '.', color='black')\n",
    "plt.title(\"290 Points\")\n",
    "plt.xlabel(\"Longitude\")\n",
    "plt.ylabel(\"Latitude\")\n",
    "plt.axis(\"equal\")\n",
    "plt.grid()"
   ]
  },
  {
   "cell_type": "code",
   "execution_count": null,
   "metadata": {},
   "outputs": [],
   "source": [
    "%matplotlib inline\n",
    "fig = plt.figure()\n",
    "plt.style.use('classic')\n",
    "plt.plot(df7130.lon, (53/69)*df7130.lat, '.', color='black')\n",
    "plt.title(\"7130 Points\")\n",
    "plt.xlabel(\"Longitude\")\n",
    "plt.ylabel(\"Latitude\")\n",
    "plt.axis(\"equal\")\n",
    "plt.grid()"
   ]
  },
  {
   "cell_type": "code",
   "execution_count": null,
   "metadata": {},
   "outputs": [],
   "source": []
  },
  {
   "cell_type": "code",
   "execution_count": null,
   "metadata": {},
   "outputs": [],
   "source": []
  },
  {
   "cell_type": "code",
   "execution_count": null,
   "metadata": {},
   "outputs": [],
   "source": []
  }
 ],
 "metadata": {
  "kernelspec": {
   "display_name": "Python 3",
   "language": "python",
   "name": "python3"
  },
  "language_info": {
   "codemirror_mode": {
    "name": "ipython",
    "version": 3
   },
   "file_extension": ".py",
   "mimetype": "text/x-python",
   "name": "python",
   "nbconvert_exporter": "python",
   "pygments_lexer": "ipython3",
   "version": "3.7.4"
  }
 },
 "nbformat": 4,
 "nbformat_minor": 2
}
